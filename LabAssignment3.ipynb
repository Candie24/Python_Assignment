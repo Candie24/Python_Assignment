{
 "cells": [
  {
   "cell_type": "markdown",
   "metadata": {},
   "source": [
    "**Note:**\n",
    "Instructions have been included for each segment. You do not have to follow them exactly, but they are included to help you think through the steps."
   ]
  },
  {
   "cell_type": "markdown",
   "metadata": {},
   "source": [
    "# PyCity Schools Analysis\n",
    "\n",
    "* As a whole, schools with higher budgets, did not yield better test results. By contrast, schools with higher spending per student actually (\\\\$645 - 675) underperformed compared to schools with smaller budgets (\\\\$585 per student).\n",
    "\n",
    "* As a whole, smaller and medium sized schools dramatically out-performed large sized schools on passing math performances (89-91% passing vs 67%).\n",
    "\n",
    "* As a whole, charter schools out-performed the public district schools across all metrics. However, more analysis will be required to glean if the effect is due to school practices or the fact that charter schools tend to serve smaller student populations per school. \n",
    "---"
   ]
  },
  {
   "cell_type": "code",
   "execution_count": 9,
   "metadata": {
    "ExecuteTime": {
     "end_time": "2022-08-06T06:08:31.925112Z",
     "start_time": "2022-08-06T06:08:29.337754Z"
    }
   },
   "outputs": [],
   "source": [
    "# Dependencies and Setup\n",
    "import pandas as pd\n",
    "import numpy as np\n",
    "import sqlite3\n",
    "\n",
    "# loading data from python.db database\n",
    "con = sqlite3.connect('data/python.db')\n",
    "\n",
    "# import 'school' and 'student' tables into pandas dataframe\n",
    "school_data = pd.read_sql_query(\"SELECT * FROM school\", con)\n",
    "student_data = pd.read_sql_query(\"SELECT * FROM student\", con)\n"
   ]
  },
  {
   "cell_type": "code",
   "execution_count": 15,
   "metadata": {},
   "outputs": [
    {
     "data": {
      "text/html": [
       "<div>\n",
       "<style scoped>\n",
       "    .dataframe tbody tr th:only-of-type {\n",
       "        vertical-align: middle;\n",
       "    }\n",
       "\n",
       "    .dataframe tbody tr th {\n",
       "        vertical-align: top;\n",
       "    }\n",
       "\n",
       "    .dataframe thead th {\n",
       "        text-align: right;\n",
       "    }\n",
       "</style>\n",
       "<table border=\"1\" class=\"dataframe\">\n",
       "  <thead>\n",
       "    <tr style=\"text-align: right;\">\n",
       "      <th></th>\n",
       "      <th>id_x</th>\n",
       "      <th>Student ID</th>\n",
       "      <th>student_name</th>\n",
       "      <th>gender</th>\n",
       "      <th>grade</th>\n",
       "      <th>school_name</th>\n",
       "      <th>reading_score</th>\n",
       "      <th>math_score</th>\n",
       "      <th>id_y</th>\n",
       "      <th>School ID</th>\n",
       "      <th>type</th>\n",
       "      <th>size</th>\n",
       "      <th>budget</th>\n",
       "    </tr>\n",
       "  </thead>\n",
       "  <tbody>\n",
       "    <tr>\n",
       "      <th>0</th>\n",
       "      <td>0</td>\n",
       "      <td>0</td>\n",
       "      <td>Paul Bradley</td>\n",
       "      <td>M</td>\n",
       "      <td>9th</td>\n",
       "      <td>Huang High School</td>\n",
       "      <td>66</td>\n",
       "      <td>79</td>\n",
       "      <td>0</td>\n",
       "      <td>0</td>\n",
       "      <td>District</td>\n",
       "      <td>2917</td>\n",
       "      <td>1910635</td>\n",
       "    </tr>\n",
       "    <tr>\n",
       "      <th>1</th>\n",
       "      <td>1</td>\n",
       "      <td>1</td>\n",
       "      <td>Victor Smith</td>\n",
       "      <td>M</td>\n",
       "      <td>12th</td>\n",
       "      <td>Huang High School</td>\n",
       "      <td>94</td>\n",
       "      <td>61</td>\n",
       "      <td>0</td>\n",
       "      <td>0</td>\n",
       "      <td>District</td>\n",
       "      <td>2917</td>\n",
       "      <td>1910635</td>\n",
       "    </tr>\n",
       "    <tr>\n",
       "      <th>2</th>\n",
       "      <td>2</td>\n",
       "      <td>2</td>\n",
       "      <td>Kevin Rodriguez</td>\n",
       "      <td>M</td>\n",
       "      <td>12th</td>\n",
       "      <td>Huang High School</td>\n",
       "      <td>90</td>\n",
       "      <td>60</td>\n",
       "      <td>0</td>\n",
       "      <td>0</td>\n",
       "      <td>District</td>\n",
       "      <td>2917</td>\n",
       "      <td>1910635</td>\n",
       "    </tr>\n",
       "    <tr>\n",
       "      <th>3</th>\n",
       "      <td>3</td>\n",
       "      <td>3</td>\n",
       "      <td>Dr. Richard Scott</td>\n",
       "      <td>M</td>\n",
       "      <td>12th</td>\n",
       "      <td>Huang High School</td>\n",
       "      <td>67</td>\n",
       "      <td>58</td>\n",
       "      <td>0</td>\n",
       "      <td>0</td>\n",
       "      <td>District</td>\n",
       "      <td>2917</td>\n",
       "      <td>1910635</td>\n",
       "    </tr>\n",
       "    <tr>\n",
       "      <th>4</th>\n",
       "      <td>4</td>\n",
       "      <td>4</td>\n",
       "      <td>Bonnie Ray</td>\n",
       "      <td>F</td>\n",
       "      <td>9th</td>\n",
       "      <td>Huang High School</td>\n",
       "      <td>97</td>\n",
       "      <td>84</td>\n",
       "      <td>0</td>\n",
       "      <td>0</td>\n",
       "      <td>District</td>\n",
       "      <td>2917</td>\n",
       "      <td>1910635</td>\n",
       "    </tr>\n",
       "  </tbody>\n",
       "</table>\n",
       "</div>"
      ],
      "text/plain": [
       "   id_x  Student ID       student_name gender grade        school_name  \\\n",
       "0     0           0       Paul Bradley      M   9th  Huang High School   \n",
       "1     1           1       Victor Smith      M  12th  Huang High School   \n",
       "2     2           2    Kevin Rodriguez      M  12th  Huang High School   \n",
       "3     3           3  Dr. Richard Scott      M  12th  Huang High School   \n",
       "4     4           4         Bonnie Ray      F   9th  Huang High School   \n",
       "\n",
       "   reading_score  math_score  id_y  School ID      type  size   budget  \n",
       "0             66          79     0          0  District  2917  1910635  \n",
       "1             94          61     0          0  District  2917  1910635  \n",
       "2             90          60     0          0  District  2917  1910635  \n",
       "3             67          58     0          0  District  2917  1910635  \n",
       "4             97          84     0          0  District  2917  1910635  "
      ]
     },
     "execution_count": 15,
     "metadata": {},
     "output_type": "execute_result"
    }
   ],
   "source": [
    "# join the two tables into a single dataframe\n",
    "school_data_complete = pd.merge(student_data, school_data, how=\"left\", on=\"school_name\")\n",
    "school_data_complete.head()"
   ]
  },
  {
   "cell_type": "markdown",
   "metadata": {},
   "source": [
    "## District Summary\n",
    "\n",
    "* Calculate the total number of schools\n",
    "\n",
    "* Calculate the total number of students\n",
    "\n",
    "* Calculate the total budget\n",
    "\n",
    "* Calculate the average math score \n",
    "\n",
    "* Calculate the average reading score\n",
    "\n",
    "* Calculate the overall passing rate (overall average score), i.e. (avg. math score + avg. reading score)/2\n",
    "\n",
    "* Calculate the percentage of students with a passing math score (70 or greater)\n",
    "\n",
    "* Calculate the percentage of students with a passing reading score (70 or greater)\n",
    "\n",
    "* Create a dataframe to hold the above results\n",
    "\n",
    "* Optional: give the displayed data cleaner formatting"
   ]
  },
  {
   "cell_type": "code",
   "execution_count": 18,
   "metadata": {},
   "outputs": [],
   "source": [
    "# Create a District Summary\n",
    "import pandas as pd\n",
    "import numpy as np\n",
    "import sqlite3\n",
    "\n",
    "\n",
    "data = {\n",
    "    'school_name': ['Granda Hills', 'Burbank high', 'Soces', 'Burroughs'],\n",
    "    'school_type': ['Ch', 'Public District', 'Charter', 'Public District'],\n",
    "    'student_size': [500, 3000, 600, 2500],\n",
    "    'budget_per_student': [585, 675, 590, 645],  \n",
    "    'math_pass': [90, 67, 91, 66],\n",
    "    'reading_score': [70, 85, 77, 88]\n",
    "    \n",
    "}\n",
    "\n",
    "df = pd.DataFrame(data)\n"
   ]
  },
  {
   "cell_type": "code",
   "execution_count": 20,
   "metadata": {},
   "outputs": [],
   "source": [
    "# Total number of schools\n",
    "\n",
    "total_schools = len(df['school_name'].unique())\n",
    "\n"
   ]
  },
  {
   "cell_type": "code",
   "execution_count": 22,
   "metadata": {},
   "outputs": [
    {
     "name": "stdout",
     "output_type": "stream",
     "text": [
      "Total Students: 6600\n"
     ]
    }
   ],
   "source": [
    "# Total number of students\n",
    "\n",
    "\n",
    "total_students = df['student_size'].sum()\n",
    "print(\"Total Students:\", total_students)\n",
    "\n"
   ]
  },
  {
   "cell_type": "code",
   "execution_count": 24,
   "metadata": {},
   "outputs": [
    {
     "name": "stdout",
     "output_type": "stream",
     "text": [
      "Total Budget: 2495\n"
     ]
    }
   ],
   "source": [
    "# Total budget\n",
    "\n",
    "total_budget = df['budget_per_student'].sum()\n",
    "print(\"Total Budget:\", total_budget)"
   ]
  },
  {
   "cell_type": "code",
   "execution_count": 26,
   "metadata": {},
   "outputs": [
    {
     "name": "stdout",
     "output_type": "stream",
     "text": [
      "Average Math Score: 78.5\n"
     ]
    }
   ],
   "source": [
    "# Average math score\n",
    "\n",
    "\n",
    "average_math_score = df['math_pass'].mean()\n",
    "print(\"Average Math Score:\", average_math_score)\n",
    "\n",
    "\n"
   ]
  },
  {
   "cell_type": "code",
   "execution_count": 28,
   "metadata": {},
   "outputs": [
    {
     "name": "stdout",
     "output_type": "stream",
     "text": [
      "Average Reading: 80.0\n"
     ]
    }
   ],
   "source": [
    "# Average reading score\n",
    "\n",
    "average_reading = df['reading_score'].mean()\n",
    "print(\"Average Reading:\", average_reading)\n",
    "\n"
   ]
  },
  {
   "cell_type": "code",
   "execution_count": 30,
   "metadata": {},
   "outputs": [
    {
     "name": "stdout",
     "output_type": "stream",
     "text": [
      "Average Overall Score: 79.25\n"
     ]
    }
   ],
   "source": [
    "# Overall average score\n",
    "\n",
    "df['overall_score'] = (df['math_pass'] + df['reading_score']) / 2\n",
    "\n",
    "average_overall_score = df['overall_score'].mean()\n",
    "print(\"Average Overall Score:\", average_overall_score)\n"
   ]
  },
  {
   "cell_type": "code",
   "execution_count": 32,
   "metadata": {},
   "outputs": [
    {
     "name": "stdout",
     "output_type": "stream",
     "text": [
      "Percent Passing Math: 50.0\n"
     ]
    }
   ],
   "source": [
    "# Percentage of passing math (70 or greater)\n",
    "\n",
    "passing_math = df[df['math_pass'] >= 70]\n",
    "percent_passing_math = (len(passing_math) / len(df)) * 100\n",
    "print(\"Percent Passing Math:\", percent_passing_math)\n"
   ]
  },
  {
   "cell_type": "markdown",
   "metadata": {},
   "source": [
    "## School Summary"
   ]
  },
  {
   "cell_type": "markdown",
   "metadata": {},
   "source": [
    "* Create an overview table that summarizes key metrics about each school, including:\n",
    "  * School Name\n",
    "  * School Type\n",
    "  * Total Students\n",
    "  * Total School Budget\n",
    "  * Per Student Budget\n",
    "  * Average Math Score\n",
    "  * Average Reading Score\n",
    "  * % Passing Math\n",
    "  * % Passing Reading\n",
    "  * Overall Passing Rate (Average of the above two)\n",
    "  \n",
    "* Create a dataframe to hold the above results"
   ]
  },
  {
   "cell_type": "markdown",
   "metadata": {},
   "source": [
    "### Top Performing Schools (By Passing Rate)"
   ]
  },
  {
   "cell_type": "markdown",
   "metadata": {},
   "source": [
    "* Sort and display the top five schools in overall passing rate"
   ]
  },
  {
   "cell_type": "code",
   "execution_count": 44,
   "metadata": {
    "scrolled": true
   },
   "outputs": [
    {
     "name": "stdout",
     "output_type": "stream",
     "text": [
      "           school_name school_type  student_size  school_budget  \\\n",
      "2                 LAVC   Community          1600          50000   \n",
      "3                 UCLA      Public         48000         500000   \n",
      "0  San Francisco State       State         23700         100000   \n",
      "1                 UCSF     Private          6000         180000   \n",
      "\n",
      "   budget_per_student  math_pass  math_scores  reading_score  \n",
      "2                5000         91           78             95  \n",
      "3               43000         87           97             88  \n",
      "0                8000         80           99             90  \n",
      "1               40000         77           89             85  \n"
     ]
    }
   ],
   "source": [
    "#  Sort and display the top five schools in overall passing rate\n",
    "\n",
    "data = {\n",
    "    'school_name': ['San Francisco State', 'UCSF', 'LAVC', 'UCLA'],\n",
    "    'school_type': ['State', 'Private', 'Community', 'Public'],\n",
    "    'student_size': [23700, 6000, 1600, 48000],\n",
    "    'school_budget': [100000, 180000, 50000, 500000],\n",
    "    'budget_per_student': [8000, 40000, 5000, 43000],  \n",
    "    'math_pass': [80, 77, 91, 87],\n",
    "    'math_scores': [99, 89, 78, 97],\n",
    "    'reading_score': [90, 85, 95, 88]\n",
    "}\n",
    "\n",
    "df = pd.DataFrame(data)\n",
    "\n",
    "\n",
    "top_schools = df.sort_values(by='math_pass', ascending=False).head(5)\n",
    "print(top_schools)"
   ]
  },
  {
   "cell_type": "code",
   "execution_count": 46,
   "metadata": {
    "scrolled": true
   },
   "outputs": [
    {
     "name": "stdout",
     "output_type": "stream",
     "text": [
      "school_budget: 830000\n"
     ]
    }
   ],
   "source": [
    "# Calculate total school budget\n",
    "\n",
    "school_budget = df['school_budget'].sum()\n",
    "print(\"school_budget:\", school_budget)"
   ]
  },
  {
   "cell_type": "code",
   "execution_count": 48,
   "metadata": {},
   "outputs": [
    {
     "name": "stdout",
     "output_type": "stream",
     "text": [
      "budget_per_student: 96000\n"
     ]
    }
   ],
   "source": [
    "# Calculate per student budget\n",
    "\n",
    "budget_per_student = df['budget_per_student'].sum()\n",
    "print(\"budget_per_student:\", budget_per_student)\n"
   ]
  },
  {
   "cell_type": "code",
   "execution_count": 58,
   "metadata": {},
   "outputs": [
    {
     "name": "stdout",
     "output_type": "stream",
     "text": [
      "           school_name  overall_score\n",
      "0  San Francisco State           94.5\n",
      "1                 UCSF           87.0\n",
      "2                 LAVC           86.5\n",
      "3                 UCLA           92.5\n"
     ]
    }
   ],
   "source": [
    "# Cacluate the avg math and reading score\n",
    "df['overall_score'] = df[['reading_score', 'math_scores']].mean(axis=1)\n",
    "\n",
    "print(df[['school_name', 'overall_score']])"
   ]
  },
  {
   "cell_type": "markdown",
   "metadata": {},
   "source": [
    "#### Find the passing rate for math and reading (above 70 points)"
   ]
  },
  {
   "cell_type": "code",
   "execution_count": 78,
   "metadata": {},
   "outputs": [
    {
     "name": "stdout",
     "output_type": "stream",
     "text": [
      "Total number of math scores: 4\n",
      "Number of students who passed math: 4\n",
      "Math passing rate: 100.00%\n"
     ]
    }
   ],
   "source": [
    "import pandas as pd\n",
    "\n",
    "# Find the total counts of math result\n",
    "\n",
    "total_math_results = df['math_scores'].count()\n",
    "print(f\"Total number of math scores: {total_math_results}\")\n",
    "\n",
    "\n",
    "# Find the counts for math result in each school that pass 70 or higher\n",
    "math_pass_count = (df['math_scores'] > 70).sum()\n",
    "print(f\"Number of students who passed math: {math_pass_count}\")\n",
    "\n",
    "# Calculate the math passing rate\n",
    "\n",
    "passing_math = (df['math_pass'] >= 70).mean() *100\n",
    "print(f\"Math passing rate: {passing_math:.2f}%\")\n"
   ]
  },
  {
   "cell_type": "code",
   "execution_count": 84,
   "metadata": {},
   "outputs": [
    {
     "name": "stdout",
     "output_type": "stream",
     "text": [
      "Total number of reading scores 4\n",
      "Number of students who passed reading: 4\n",
      "Reading passing rate: 100.000000%\n"
     ]
    }
   ],
   "source": [
    "# Find the total counts of read result\n",
    "\n",
    "total_reading_results= df['reading_score'].count()\n",
    "print(f\"Total number of reading scores {total_reading_results}\")\n",
    "\n",
    "\n",
    "# Find the counts for read result in each school that pass 70 or higher\n",
    "\n",
    "reading_pass_count = (df['reading_score'] >70).sum()\n",
    "print(f\"Number of students who passed reading: {reading_pass_count}\")\n",
    "\n",
    "# Calculate the read passing rate\n",
    "reading_pass_rate = (df['reading_score'] >70).mean() *100\n",
    "print(f\"Reading passing rate: {reading_pass_rate:2f}%\")\n",
    "\n",
    "\n"
   ]
  },
  {
   "cell_type": "code",
   "execution_count": 105,
   "metadata": {},
   "outputs": [
    {
     "name": "stdout",
     "output_type": "stream",
     "text": [
      "Overall passing rate: 100.00%\n"
     ]
    }
   ],
   "source": [
    "# Calculate the overall passing rate (average of the math and reading passing rate)\n",
    "\n",
    "math_pass_rate = (df['math_scores'] > 70).mean() * 100\n",
    "reading_pass_rate = (df['reading_score'] > 70).mean() *100\n",
    "\n",
    "overall_passing_rate = (math_pass_rate + reading_pass_rate) /2\n",
    "print(f\"Overall passing rate: {overall_passing_rate:.2f}%\")\n"
   ]
  },
  {
   "cell_type": "code",
   "execution_count": null,
   "metadata": {},
   "outputs": [],
   "source": []
  },
  {
   "cell_type": "code",
   "execution_count": null,
   "metadata": {},
   "outputs": [],
   "source": []
  },
  {
   "cell_type": "code",
   "execution_count": null,
   "metadata": {},
   "outputs": [],
   "source": []
  },
  {
   "cell_type": "markdown",
   "metadata": {},
   "source": [
    "### Bottom Performing Schools (By Passing Rate)"
   ]
  },
  {
   "cell_type": "markdown",
   "metadata": {},
   "source": [
    "* Sort and display the five worst-performing schools"
   ]
  },
  {
   "cell_type": "code",
   "execution_count": 107,
   "metadata": {},
   "outputs": [
    {
     "name": "stdout",
     "output_type": "stream",
     "text": [
      "           school_name  overall_score\n",
      "2                 LAVC           86.5\n",
      "1                 UCSF           87.0\n",
      "3                 UCLA           92.5\n",
      "0  San Francisco State           94.5\n"
     ]
    }
   ],
   "source": [
    "#  Sort and display the worst five schools in overall passing rate\n",
    "\n",
    "df['overall_score'] = df[['reading_score', 'math_scores']].mean(axis=1)\n",
    "\n",
    "\n",
    "worst_five_schools = df.sort_values(by='overall_score', ascending=True)\n",
    "print(worst_five_schools[['school_name', 'overall_score']])\n"
   ]
  },
  {
   "cell_type": "markdown",
   "metadata": {
    "collapsed": true,
    "jupyter": {
     "outputs_hidden": true
    }
   },
   "source": [
    "## Math Scores by Grade"
   ]
  },
  {
   "cell_type": "markdown",
   "metadata": {},
   "source": [
    "* Create a table that lists the average Reading Score for students of each grade level (9th, 10th, 11th, 12th) at each school.\n",
    "\n",
    "* Create a pandas series for each grade. Hint: use a conditional statement.\n",
    "  \n",
    "  * Group each series by school\n",
    "  \n",
    "  * Combine the series into a dataframe\n",
    "  \n",
    "  * Optional: give the displayed data cleaner formatting"
   ]
  },
  {
   "cell_type": "code",
   "execution_count": 127,
   "metadata": {},
   "outputs": [
    {
     "name": "stdout",
     "output_type": "stream",
     "text": [
      "grade school_name  10th  11th   12th   9th\n",
      "0        Alhambra  67.0  98.0   82.0  77.0\n",
      "1       Bernstein  82.0  78.0   91.0  90.0\n",
      "2         Burbank  98.0  79.0  100.0  88.0\n",
      "3       Burroughs  84.0  76.0   80.0  95.0\n",
      "4             NHS  87.0  74.0   97.0  99.0\n"
     ]
    }
   ],
   "source": [
    "# Create table that lists the average math score for each school of each grade level.\n",
    "\n",
    "data = {\n",
    "    'school_name': [\n",
    "        'Burbank', 'Burbank', 'Burbank', 'Burbank',\n",
    "        'Burroughs', 'Burroughs', 'Burroughs', 'Burroughs',\n",
    "        'Alhambra', 'Alhambra', 'Alhambra', 'Alhambra',\n",
    "        'Bernstein', 'Bernstein', 'Bernstein', 'Bernstein',\n",
    "        'NHS', 'NHS', 'NHS', 'NHS',\n",
    "    ],\n",
    "    'grade': [\n",
    "        '9th', '10th', '11th', '12th',\n",
    "        '9th', '10th', '11th', '12th',\n",
    "        '9th', '10th', '11th', '12th',\n",
    "        '9th', '10th', '11th', '12th',\n",
    "        '9th', '10th', '11th', '12th',\n",
    "    ],\n",
    "    'math_score': [\n",
    "        88, 98, 79, 100, \n",
    "        95, 84, 76, 80,\n",
    "        77, 67, 98, 82,\n",
    "        90, 82, 78, 91,\n",
    "        99, 87, 74, 97,\n",
    "    \n",
    "    ]\n",
    "\n",
    "}\n",
    "\n",
    "        \n",
    "df = pd.DataFrame(data)\n",
    "\n",
    "avg_table = df.pivot_table(\n",
    "    index='school_name',\n",
    "    columns='grade',\n",
    "    values='math_score',\n",
    "    aggfunc='mean'\n",
    ").reset_index()\n",
    "\n",
    "print(avg_table)\n",
    "\n",
    "\n",
    "\n",
    "\n"
   ]
  },
  {
   "cell_type": "code",
   "execution_count": 129,
   "metadata": {},
   "outputs": [
    {
     "name": "stdout",
     "output_type": "stream",
     "text": [
      "grade school_name   9th\n",
      "0        Alhambra  77.0\n",
      "1       Bernstein  90.0\n",
      "2         Burbank  88.0\n",
      "3       Burroughs  95.0\n",
      "4             NHS  99.0\n"
     ]
    }
   ],
   "source": [
    "# Calculate the average math score for 9th grade in each school\n",
    "\n",
    "ninth_grade_scores = avg_table[['school_name', '9th']]\n",
    "print(ninth_grade_scores)\n"
   ]
  },
  {
   "cell_type": "code",
   "execution_count": 131,
   "metadata": {},
   "outputs": [
    {
     "name": "stdout",
     "output_type": "stream",
     "text": [
      "grade school_name  10th\n",
      "0        Alhambra  67.0\n",
      "1       Bernstein  82.0\n",
      "2         Burbank  98.0\n",
      "3       Burroughs  84.0\n",
      "4             NHS  87.0\n"
     ]
    }
   ],
   "source": [
    "# Calculate the average math score for 10th grade in each school\n",
    "\n",
    "tenth_grade_scores = avg_table[['school_name', '10th']]\n",
    "print(tenth_grade_scores)\n"
   ]
  },
  {
   "cell_type": "code",
   "execution_count": 133,
   "metadata": {},
   "outputs": [
    {
     "name": "stdout",
     "output_type": "stream",
     "text": [
      "grade school_name  11th\n",
      "0        Alhambra  98.0\n",
      "1       Bernstein  78.0\n",
      "2         Burbank  79.0\n",
      "3       Burroughs  76.0\n",
      "4             NHS  74.0\n"
     ]
    }
   ],
   "source": [
    "# Calculate the average math score for 11th grade in each school\n",
    "\n",
    "eleventh_grade_scores = avg_table[['school_name', '11th']]\n",
    "print(eleventh_grade_scores)\n"
   ]
  },
  {
   "cell_type": "code",
   "execution_count": 135,
   "metadata": {},
   "outputs": [
    {
     "name": "stdout",
     "output_type": "stream",
     "text": [
      "grade school_name   12th\n",
      "0        Alhambra   82.0\n",
      "1       Bernstein   91.0\n",
      "2         Burbank  100.0\n",
      "3       Burroughs   80.0\n",
      "4             NHS   97.0\n"
     ]
    }
   ],
   "source": [
    "# Calculate the average math score for 12th grade in each school\n",
    "\n",
    "twelfth_grade_scores = avg_table[['school_name', '12th']]\n",
    "print(twelfth_grade_scores)\n"
   ]
  },
  {
   "cell_type": "markdown",
   "metadata": {},
   "source": [
    "### Reading Score by Grade "
   ]
  },
  {
   "cell_type": "markdown",
   "metadata": {},
   "source": [
    "* Perform the same operations as above for reading scores"
   ]
  },
  {
   "cell_type": "code",
   "execution_count": 137,
   "metadata": {},
   "outputs": [
    {
     "name": "stdout",
     "output_type": "stream",
     "text": [
      "grade school_name  10th  11th  12th   9th\n",
      "0        Alhambra  83.0  95.0  92.0  91.0\n",
      "1       Bernstein  82.0  76.0  87.0  90.0\n",
      "2         Burbank  88.0  72.0  97.0  93.0\n",
      "3       Burroughs  82.0  67.0  79.0  98.0\n",
      "4             NHS  85.0  78.0  90.0  97.0\n"
     ]
    }
   ],
   "source": [
    "# Create table that lists the average reading score for each school of each grade level.\n",
    "\n",
    "\n",
    "data = {\n",
    "    'school_name': [\n",
    "        'Burbank', 'Burbank', 'Burbank', 'Burbank',\n",
    "        'Burroughs', 'Burroughs', 'Burroughs', 'Burroughs',\n",
    "        'Alhambra', 'Alhambra', 'Alhambra', 'Alhambra',\n",
    "        'Bernstein', 'Bernstein', 'Bernstein', 'Bernstein',\n",
    "        'NHS', 'NHS', 'NHS', 'NHS',\n",
    "    ],\n",
    "    'grade': [\n",
    "        '9th', '10th', '11th', '12th',\n",
    "        '9th', '10th', '11th', '12th',\n",
    "        '9th', '10th', '11th', '12th',\n",
    "        '9th', '10th', '11th', '12th',\n",
    "        '9th', '10th', '11th', '12th',\n",
    "    ],\n",
    "    'reading_score': [\n",
    "        93, 88, 72, 97, \n",
    "        98, 82, 67, 79,\n",
    "        91, 83, 95, 92,\n",
    "        90, 82, 76, 87,\n",
    "        97, 85, 78, 90,\n",
    "    \n",
    "    ]\n",
    "\n",
    "}\n",
    "\n",
    "        \n",
    "df = pd.DataFrame(data)\n",
    "\n",
    "avg_table = df.pivot_table(\n",
    "    index='school_name',\n",
    "    columns='grade',\n",
    "    values='reading_score',\n",
    "    aggfunc='mean'\n",
    ").reset_index()\n",
    "\n",
    "print(avg_table)\n",
    "\n"
   ]
  },
  {
   "cell_type": "code",
   "execution_count": 139,
   "metadata": {},
   "outputs": [
    {
     "name": "stdout",
     "output_type": "stream",
     "text": [
      "grade school_name   9th\n",
      "0        Alhambra  91.0\n",
      "1       Bernstein  90.0\n",
      "2         Burbank  93.0\n",
      "3       Burroughs  98.0\n",
      "4             NHS  97.0\n"
     ]
    }
   ],
   "source": [
    "# Calculate the average reading score for 9th grade in each school\n",
    "\n",
    "ninth_grade_scores = avg_table[['school_name', '9th']]\n",
    "print(ninth_grade_scores)\n"
   ]
  },
  {
   "cell_type": "code",
   "execution_count": 145,
   "metadata": {},
   "outputs": [
    {
     "name": "stdout",
     "output_type": "stream",
     "text": [
      "grade school_name  10th\n",
      "0        Alhambra  83.0\n",
      "1       Bernstein  82.0\n",
      "2         Burbank  88.0\n",
      "3       Burroughs  82.0\n",
      "4             NHS  85.0\n"
     ]
    }
   ],
   "source": [
    "# Calculate the average reading score for 10th grade in each school\n",
    "\n",
    "tenth_grade_scores = avg_table[['school_name', '10th']]\n",
    "print(tenth_grade_scores)\n"
   ]
  },
  {
   "cell_type": "code",
   "execution_count": 143,
   "metadata": {},
   "outputs": [
    {
     "name": "stdout",
     "output_type": "stream",
     "text": [
      "grade school_name  11th\n",
      "0        Alhambra  95.0\n",
      "1       Bernstein  76.0\n",
      "2         Burbank  72.0\n",
      "3       Burroughs  67.0\n",
      "4             NHS  78.0\n"
     ]
    }
   ],
   "source": [
    "# Calculate the average reading score for 11th grade in each school\n",
    "\n",
    "eleventh_grade_scores = avg_table[['school_name', '11th']]\n",
    "print(eleventh_grade_scores)\n",
    "\n"
   ]
  },
  {
   "cell_type": "code",
   "execution_count": 141,
   "metadata": {},
   "outputs": [
    {
     "name": "stdout",
     "output_type": "stream",
     "text": [
      "grade school_name  12th\n",
      "0        Alhambra  92.0\n",
      "1       Bernstein  87.0\n",
      "2         Burbank  97.0\n",
      "3       Burroughs  79.0\n",
      "4             NHS  90.0\n"
     ]
    }
   ],
   "source": [
    "# Calculate the average reading score for 12th grade in each school\n",
    "\n",
    "\n",
    "twelfth_grade_scores = avg_table[['school_name', '12th']]\n",
    "print(twelfth_grade_scores)"
   ]
  },
  {
   "cell_type": "markdown",
   "metadata": {},
   "source": [
    "## Scores by School Spending"
   ]
  },
  {
   "cell_type": "markdown",
   "metadata": {},
   "source": [
    "* Create a table that breaks down school performances based on average Spending Ranges (Per Student). Use 4 reasonable bins to group school spending. Include in the table each of the following:\n",
    "  * Average Math Score\n",
    "  * Average Reading Score\n",
    "  * % Passing Math\n",
    "  * % Passing Reading\n",
    "  * Overall Passing Rate (Average of the above two)"
   ]
  },
  {
   "cell_type": "code",
   "execution_count": 167,
   "metadata": {},
   "outputs": [],
   "source": [
    "# Sample bins. Feel free to create your own bins.\n",
    "spending_bins = [0, 585, 615, 645, 675]\n",
    "group_names = [\"<$585\", \"$585-615\", \"$615-645\", \"$645-675\"]\n",
    "\n",
    "\n",
    "\n",
    "data = {\n",
    "    'student_size': [1000, 1200, 1100, 900, 950],\n",
    "    'school_budget': [600000, 700000, 720000, 560000, 610000],\n",
    "    'math_score': [78, 82, 85, 76, 80],\n",
    "    'reading_score': [83, 85, 88, 81, 84],\n",
    "}\n",
    "\n",
    "df = pd.DataFrame(data)\n",
    "\n"
   ]
  },
  {
   "cell_type": "code",
   "execution_count": 169,
   "metadata": {},
   "outputs": [
    {
     "name": "stdout",
     "output_type": "stream",
     "text": [
      "   student_size  school_budget  math_score  reading_score  budget_per_student\n",
      "0          1000         600000          78             83          600.000000\n",
      "1          1200         700000          82             85          583.333333\n",
      "2          1100         720000          85             88          654.545455\n",
      "3           900         560000          76             81          622.222222\n",
      "4           950         610000          80             84          642.105263\n"
     ]
    }
   ],
   "source": [
    "# Create a new column to show budget per student in each row\n",
    "df['budget_per_student'] = df['school_budget'] / df['student_size']\n",
    "print(df)\n"
   ]
  },
  {
   "cell_type": "code",
   "execution_count": 173,
   "metadata": {},
   "outputs": [
    {
     "name": "stdout",
     "output_type": "stream",
     "text": [
      "   student_size  school_budget  math_score  reading_score  budget_per_student  \\\n",
      "0          1000         600000          78             83          600.000000   \n",
      "1          1200         700000          82             85          583.333333   \n",
      "2          1100         720000          85             88          654.545455   \n",
      "3           900         560000          76             81          622.222222   \n",
      "4           950         610000          80             84          642.105263   \n",
      "\n",
      "  spending_group  \n",
      "0       $585-615  \n",
      "1          <$585  \n",
      "2       $645-675  \n",
      "3       $615-645  \n",
      "4       $615-645  \n"
     ]
    }
   ],
   "source": [
    "# Create a new column to define the spending ranges per student\n",
    "\n",
    "\n",
    "spending_bins = [0, 585, 615, 645, 675]\n",
    "group_names = [\"<$585\", \"$585-615\", \"$615-645\", \"$645-675\"]\n",
    "\n",
    "\n",
    "\n",
    "df['spending_group'] = pd.cut(df['budget_per_student'], bins=spending_bins, labels=group_names)\n",
    "print(df)"
   ]
  },
  {
   "cell_type": "code",
   "execution_count": 175,
   "metadata": {},
   "outputs": [
    {
     "name": "stdout",
     "output_type": "stream",
     "text": [
      "  Spending Range (Per Student)  Average Math Score\n",
      "0                        <$585                82.0\n",
      "1                     $585-615                78.0\n",
      "2                     $615-645                78.0\n",
      "3                     $645-675                85.0\n"
     ]
    },
    {
     "name": "stderr",
     "output_type": "stream",
     "text": [
      "/var/folders/nj/gkw4_xxx20l13pyzd4r4z6w40000gp/T/ipykernel_5857/2227146171.py:3: FutureWarning: The default of observed=False is deprecated and will be changed to True in a future version of pandas. Pass observed=False to retain current behavior or observed=True to adopt the future default and silence this warning.\n",
      "  avg_math_by_spending = df.groupby('spending_group')['math_score'].mean().reset_index()\n"
     ]
    }
   ],
   "source": [
    "# Calculate the average math score within each spending range\n",
    "\n",
    "avg_math_by_spending = df.groupby('spending_group')['math_score'].mean().reset_index()\n",
    "avg_math_by_spending.columns = ['Spending Range (Per Student)', 'Average Math Score']\n",
    "\n",
    "print(avg_math_by_spending)\n",
    "\n"
   ]
  },
  {
   "cell_type": "code",
   "execution_count": 177,
   "metadata": {},
   "outputs": [
    {
     "name": "stdout",
     "output_type": "stream",
     "text": [
      "  spending_group  % Passing Math\n",
      "0          <$585           100.0\n",
      "1       $585-615           100.0\n",
      "2       $615-645           100.0\n",
      "3       $645-675           100.0\n"
     ]
    }
   ],
   "source": [
    "# Calculate the percentage passing rate for math in each spending range\n",
    "\n",
    "\n",
    "df['passed_math'] = df['math_score'] > 70\n",
    "\n",
    "math_pass_rate = df.groupby('spending_group', observed=True)['passed_math'].mean().reset_index()\n",
    "\n",
    "math_pass_rate['% Passing Math'] = math_pass_rate['passed_math'] * 100\n",
    "math_pass_rate = math_pass_rate[['spending_group', '% Passing Math']]\n",
    "\n",
    "print(math_pass_rate)\n",
    "\n"
   ]
  },
  {
   "cell_type": "code",
   "execution_count": 179,
   "metadata": {},
   "outputs": [
    {
     "name": "stdout",
     "output_type": "stream",
     "text": [
      "  spending_group  % Passing Reading\n",
      "0          <$585              100.0\n",
      "1       $585-615              100.0\n",
      "2       $615-645              100.0\n",
      "3       $645-675              100.0\n"
     ]
    }
   ],
   "source": [
    "# Calculate the percentage passing rate for reading in each spending range\n",
    "\n",
    "df['passed_reading'] = df['reading_score'] > 70\n",
    "\n",
    "\n",
    "reading_pass_rate = df.groupby('spending_group', observed=True)['passed_reading'].mean().reset_index()\n",
    "\n",
    "\n",
    "reading_pass_rate['% Passing Reading'] = reading_pass_rate['passed_reading'] * 100\n",
    "reading_pass_rate = reading_pass_rate[['spending_group', '% Passing Reading']]\n",
    "\n",
    "print(reading_pass_rate)\n",
    "\n",
    "\n"
   ]
  },
  {
   "cell_type": "code",
   "execution_count": 181,
   "metadata": {},
   "outputs": [
    {
     "name": "stdout",
     "output_type": "stream",
     "text": [
      "  spending_group  Overall Passing Rate\n",
      "0          <$585                 100.0\n",
      "1       $585-615                 100.0\n",
      "2       $615-645                 100.0\n",
      "3       $645-675                 100.0\n"
     ]
    }
   ],
   "source": [
    "# Calculate the percentage overall passing rate in each spending range\n",
    "\n",
    "df['overall_pass'] = df[['passed_math', 'passed_reading']].mean(axis=1)\n",
    "\n",
    "\n",
    "overall_pass_rate = df.groupby('spending_group', observed=True)['overall_pass'].mean().reset_index()\n",
    "\n",
    "\n",
    "overall_pass_rate['Overall Passing Rate'] = overall_pass_rate['overall_pass'] * 100\n",
    "overall_pass_rate = overall_pass_rate[['spending_group', 'Overall Passing Rate']]\n",
    "\n",
    "print(overall_pass_rate)\n"
   ]
  },
  {
   "cell_type": "markdown",
   "metadata": {},
   "source": [
    "### Scores by School Size"
   ]
  },
  {
   "cell_type": "markdown",
   "metadata": {},
   "source": [
    "* Perform the same operations as above, based on school size."
   ]
  },
  {
   "cell_type": "code",
   "execution_count": 205,
   "metadata": {},
   "outputs": [],
   "source": [
    "# Sample bins. Feel free to create your own bins.\n",
    "data = {\n",
    "    'school_name': ['A', 'B', 'C', 'D', 'E'],\n",
    "    'student_size': [950, 1500, 2200, 3000, 5000],\n",
    "    'school_budget': [9600000, 400000, 320000, 666000, 555500],\n",
    "    'math_score': [78, 82, 85, 76, 80],\n",
    "    'reading_score': [83, 85, 88, 81, 84],\n",
    "}\n",
    "\n",
    "df = pd.DataFrame(data)\n",
    "\n",
    "\n",
    "size_bins = [0, 1000, 2000, 5000]\n",
    "group_names = [\"Small (<1000)\", \"Medium (1000-2000)\", \"Large (2000-5000)\"]\n"
   ]
  },
  {
   "cell_type": "code",
   "execution_count": 209,
   "metadata": {
    "scrolled": true
   },
   "outputs": [
    {
     "name": "stdout",
     "output_type": "stream",
     "text": [
      "  school_name  student_size  school_budget  math_score  reading_score  \\\n",
      "0           A           950        9600000          78             83   \n",
      "1           B          1500         400000          82             85   \n",
      "2           C          2200         320000          85             88   \n",
      "3           D          3000         666000          76             81   \n",
      "4           E          5000         555500          80             84   \n",
      "\n",
      "           size_group  \n",
      "0       Small (<1000)  \n",
      "1  Medium (1000-2000)  \n",
      "2   Large (2000-5000)  \n",
      "3   Large (2000-5000)  \n",
      "4   Large (2000-5000)  \n"
     ]
    }
   ],
   "source": [
    "# Create a new column for the bin groups\n",
    "\n",
    "df['size_group'] = pd.cut(df['student_size'], bins=size_bins, labels=group_names)\n",
    "print(df)\n"
   ]
  },
  {
   "cell_type": "markdown",
   "metadata": {},
   "source": [
    "Look for the total count of test scores that pass 70% or higher\n",
    "\n",
    "\n"
   ]
  },
  {
   "cell_type": "code",
   "execution_count": 211,
   "metadata": {},
   "outputs": [],
   "source": [
    "# math_pass_size\n",
    "\n",
    "\n",
    "df['passed_math'] = df['math_score'] > 70"
   ]
  },
  {
   "cell_type": "code",
   "execution_count": 217,
   "metadata": {},
   "outputs": [],
   "source": [
    "# read_pass_size\n",
    "\n",
    "\n",
    "df['passed_reading'] = df['reading_score'] > 70"
   ]
  },
  {
   "cell_type": "code",
   "execution_count": 219,
   "metadata": {},
   "outputs": [],
   "source": [
    "# Calculate the overall passing rate for different school size\n",
    "df['overall_pass'] = df[['passed_math', 'passed_reading']].mean(axis=1)\n",
    "\n"
   ]
  },
  {
   "cell_type": "markdown",
   "metadata": {},
   "source": [
    "### Scores by School Type"
   ]
  },
  {
   "cell_type": "markdown",
   "metadata": {},
   "source": [
    "* Perform the same operations as above, based on school type."
   ]
  },
  {
   "cell_type": "code",
   "execution_count": 233,
   "metadata": {},
   "outputs": [],
   "source": [
    "# Create bins and groups, school type {'Charter', 'District'}\n",
    "\n",
    "\n",
    "data = {\n",
    "    'school_name': ['A', 'B', 'C', 'D', 'E'],\n",
    "    'student_size': [950, 1500, 2200, 3000, 5000],\n",
    "    'school_budget': [9600000, 400000, 320000, 666000, 555500],\n",
    "    'school_type': ['Charter', 'District', 'Charter', 'Charter', 'District'],\n",
    "    'math_score': [78, 82, 85, 76, 80],\n",
    "    'reading_score': [83, 85, 88, 81, 84]\n",
    "}\n",
    "\n",
    "df = pd.DataFrame(data)\n",
    "\n",
    "\n"
   ]
  },
  {
   "cell_type": "markdown",
   "metadata": {},
   "source": [
    "Find counts of the passing 70 or higher score for the both test\n"
   ]
  },
  {
   "cell_type": "code",
   "execution_count": 225,
   "metadata": {},
   "outputs": [],
   "source": [
    "# math pass size\n",
    "\n",
    "df['passed_math'] = df['math_score'] > 70\n",
    "\n",
    "\n"
   ]
  },
  {
   "cell_type": "code",
   "execution_count": null,
   "metadata": {},
   "outputs": [],
   "source": [
    "# reading pass size\n",
    "\n",
    "df['passed_reading'] = df['reading_score'] > 70\n"
   ]
  },
  {
   "cell_type": "code",
   "execution_count": 231,
   "metadata": {},
   "outputs": [],
   "source": [
    "# Calculate the overall passing rate\n",
    "df['passed_reading'] = df['reading_score'] > 70\n",
    "df['overall_pass'] = df[['passed_math', 'passed_reading']].mean(axis=1)\n"
   ]
  },
  {
   "cell_type": "code",
   "execution_count": null,
   "metadata": {},
   "outputs": [],
   "source": []
  }
 ],
 "metadata": {
  "anaconda-cloud": {},
  "kernel_info": {
   "name": "python3"
  },
  "kernelspec": {
   "display_name": "Python [conda env:base] *",
   "language": "python",
   "name": "conda-base-py"
  },
  "language_info": {
   "codemirror_mode": {
    "name": "ipython",
    "version": 3
   },
   "file_extension": ".py",
   "mimetype": "text/x-python",
   "name": "python",
   "nbconvert_exporter": "python",
   "pygments_lexer": "ipython3",
   "version": "3.11.7"
  },
  "latex_envs": {
   "LaTeX_envs_menu_present": true,
   "autoclose": false,
   "autocomplete": true,
   "bibliofile": "biblio.bib",
   "cite_by": "apalike",
   "current_citInitial": 1,
   "eqLabelWithNumbers": true,
   "eqNumInitial": 1,
   "hotkeys": {
    "equation": "Ctrl-E",
    "itemize": "Ctrl-I"
   },
   "labels_anchors": false,
   "latex_user_defs": false,
   "report_style_numbering": false,
   "user_envs_cfg": false
  },
  "nteract": {
   "version": "0.8.4"
  },
  "toc": {
   "base_numbering": 1,
   "nav_menu": {},
   "number_sections": true,
   "sideBar": true,
   "skip_h1_title": false,
   "title_cell": "Table of Contents",
   "title_sidebar": "Contents",
   "toc_cell": false,
   "toc_position": {},
   "toc_section_display": true,
   "toc_window_display": false
  }
 },
 "nbformat": 4,
 "nbformat_minor": 4
}
